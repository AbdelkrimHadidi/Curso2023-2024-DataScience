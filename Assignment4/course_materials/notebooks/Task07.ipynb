{
  "cells": [
    {
      "cell_type": "markdown",
      "metadata": {
        "id": "nOOPLCHF7hLB"
      },
      "source": [
        "**Task 07: Querying RDF(s)**"
      ]
    },
    {
      "cell_type": "code",
      "execution_count": 26,
      "metadata": {
        "colab": {
          "base_uri": "https://localhost:8080/",
          "height": 211
        },
        "id": "Yl9npCt8n6m-",
        "outputId": "096014c0-f1ad-4bd6-bada-ab3561ff1367"
      },
      "outputs": [],
      "source": [
        "# !pip install rdflib\n",
        "github_storage = \"https://raw.githubusercontent.com/FacultadInformatica-LinkedData/Curso2023-2024/master/Assignment4/course_materials\""
      ]
    },
    {
      "cell_type": "markdown",
      "metadata": {
        "id": "XY7aPc86Bqoo"
      },
      "source": [
        "First let's read the RDF file"
      ]
    },
    {
      "cell_type": "code",
      "execution_count": 27,
      "metadata": {
        "colab": {
          "base_uri": "https://localhost:8080/",
          "height": 35
        },
        "id": "9ERh415on7kF",
        "outputId": "395dc571-ef76-4330-cf4b-0b9db3aa5277"
      },
      "outputs": [
        {
          "data": {
            "text/plain": [
              "<Graph identifier=N516c36a866d8467bb71a399f4d01157a (<class 'rdflib.graph.Graph'>)>"
            ]
          },
          "execution_count": 27,
          "metadata": {},
          "output_type": "execute_result"
        }
      ],
      "source": [
        "from rdflib import Graph, Namespace, Literal\n",
        "from rdflib.namespace import RDF, RDFS\n",
        "g = Graph()\n",
        "g.namespace_manager.bind('ns', Namespace(\"http://somewhere#\"), override=False)\n",
        "g.namespace_manager.bind('vcard', Namespace(\"http://www.w3.org/2001/vcard-rdf/3.0#\"), override=False)\n",
        "g.parse(github_storage+\"/rdf/example6.rdf\", format=\"xml\")"
      ]
    },
    {
      "cell_type": "code",
      "execution_count": 90,
      "metadata": {},
      "outputs": [
        {
          "name": "stdout",
          "output_type": "stream",
          "text": [
            "http://somewhere#RockySmith http://www.w3.org/1999/02/22-rdf-syntax-ns#type http://somewhere#Animal\n"
          ]
        }
      ],
      "source": [
        "ns = Namespace(\"http://somewhere#\")\n",
        "for s,p,o in g.triples((None, None, ns.Animal)):\n",
        "  print(s, p, o)"
      ]
    },
    {
      "cell_type": "markdown",
      "metadata": {
        "id": "qp1oe2Eddsvo"
      },
      "source": [
        "**TASK 7.1: List all subclasses of \"LivingThing\" with RDFLib and SPARQL**"
      ]
    },
    {
      "cell_type": "code",
      "execution_count": 62,
      "metadata": {
        "id": "tRcSWuMHOXBl"
      },
      "outputs": [
        {
          "name": "stdout",
          "output_type": "stream",
          "text": [
            "http://somewhere#Person\n",
            "http://somewhere#Animal\n"
          ]
        }
      ],
      "source": [
        "# TO DO\n",
        "from rdflib.plugins.sparql import prepareQuery\n",
        "\n",
        "livingThing_query = prepareQuery('''\n",
        "SELECT ?subClase\n",
        "WHERE {\n",
        "    ?subClase rdfs:subClassOf ns:LivingThing\n",
        "}                      \n",
        "''',\n",
        "initNs = { \"rdfs\": RDFS, \"ns\": ns}\n",
        ")\n",
        "# Visualize the results\n",
        "\n",
        "for r in g.query(livingThing_query):\n",
        "  print(r.subClase)"
      ]
    },
    {
      "cell_type": "markdown",
      "metadata": {
        "id": "gM3DASkTQQ5Y"
      },
      "source": [
        "**TASK 7.2: List all individuals of \"Person\" with RDFLib and SPARQL (remember the subClasses)**\n"
      ]
    },
    {
      "cell_type": "code",
      "execution_count": 72,
      "metadata": {
        "id": "LiKSPHRzS-XJ"
      },
      "outputs": [
        {
          "name": "stdout",
          "output_type": "stream",
          "text": [
            "http://somewhere#SaraJones\n",
            "http://somewhere#JohnSmith\n"
          ]
        }
      ],
      "source": [
        "# TO DO\n",
        "from rdflib.plugins.sparql import prepareQuery\n",
        "\n",
        "person_query = prepareQuery('''\n",
        "SELECT ?person\n",
        "WHERE {\n",
        "    ?person rdf:type ns:Person\n",
        "}                      \n",
        "''',\n",
        "initNs = { \"rdf\": RDF, \"rdfs\": RDFS, \"ns\": ns}\n",
        ")\n",
        "# Visualize the results\n",
        "\n",
        "for r in g.query(person_query):\n",
        "  print(r.person)"
      ]
    },
    {
      "cell_type": "markdown",
      "metadata": {
        "id": "MXBqtBkJd22I"
      },
      "source": [
        "**TASK 7.3: List all individuals of \"Person\" or \"Animal\" and all their properties including their class with RDFLib and SPARQL. You do not need to list the individuals of the subclasses of person**\n"
      ]
    },
    {
      "cell_type": "code",
      "execution_count": 100,
      "metadata": {
        "id": "APQGv3NHX8Tf"
      },
      "outputs": [
        {
          "name": "stdout",
          "output_type": "stream",
          "text": [
            "http://somewhere#RockySmith http://www.w3.org/1999/02/22-rdf-syntax-ns#type http://somewhere#Animal\n",
            "http://somewhere#RockySmith http://www.w3.org/2001/vcard-rdf/3.0/Given Rocky\n",
            "http://somewhere#RockySmith http://www.w3.org/2001/vcard-rdf/3.0/FN Rocky Smith\n",
            "http://somewhere#RockySmith http://www.w3.org/2001/vcard-rdf/3.0/Family Smith\n",
            "http://somewhere#RockySmith http://xmlns.com/foaf/0.1/knows http://somewhere#JaneSmith\n",
            "http://somewhere#RockySmith http://xmlns.com/foaf/0.1/knows http://somewhere#SaraJones\n",
            "http://somewhere#SaraJones http://www.w3.org/1999/02/22-rdf-syntax-ns#type http://somewhere#Person\n",
            "http://somewhere#SaraJones http://www.w3.org/2001/vcard-rdf/3.0/Given Sara\n",
            "http://somewhere#SaraJones http://www.w3.org/2001/vcard-rdf/3.0/FN Sara Jones\n",
            "http://somewhere#SaraJones http://www.w3.org/2001/vcard-rdf/3.0/Family Jones\n",
            "http://somewhere#SaraJones http://xmlns.com/foaf/0.1/knows http://somewhere#RockySmith\n",
            "http://somewhere#SaraJones http://xmlns.com/foaf/0.1/knows http://somewhere#JaneSmith\n",
            "http://somewhere#JohnSmith http://www.w3.org/1999/02/22-rdf-syntax-ns#type http://somewhere#Person\n",
            "http://somewhere#JohnSmith http://www.w3.org/2001/vcard-rdf/3.0/Given John\n",
            "http://somewhere#JohnSmith http://www.w3.org/2001/vcard-rdf/3.0/FN John Smith\n",
            "http://somewhere#JohnSmith http://www.w3.org/2001/vcard-rdf/3.0/Family Smith\n"
          ]
        }
      ],
      "source": [
        "# TO DO\n",
        "from rdflib.plugins.sparql import prepareQuery\n",
        "\n",
        "query_3 = prepareQuery('''\n",
        "SELECT ?subject ?predicate ?object\n",
        "WHERE {\n",
        "     ?subject ?predicate ?object .\n",
        "     ?subject rdf:type ?type .\n",
        "FILTER (\n",
        "     ?type = ns:Animal || ?type = ns:Person\n",
        ")\n",
        "}\n",
        "''',\n",
        "initNs = { \"rdf\": RDF, \"rdfs\": RDFS, \"ns\": ns}\n",
        ")\n",
        "\n",
        "# Visualize the results\n",
        "\n",
        "for r in g.query(query_3):\n",
        "  print(r.subject, r.predicate, r.object)"
      ]
    },
    {
      "cell_type": "markdown",
      "metadata": {
        "id": "3NyI7M2VNr9R"
      },
      "source": [
        "**TASK 7.4:  List the name of the persons who know Rocky**"
      ]
    },
    {
      "cell_type": "code",
      "execution_count": 167,
      "metadata": {},
      "outputs": [
        {
          "name": "stdout",
          "output_type": "stream",
          "text": [
            "http://somewhere#RockySmith http://xmlns.com/foaf/0.1/knows http://somewhere#JaneSmith\n",
            "http://somewhere#SaraJones http://xmlns.com/foaf/0.1/knows http://somewhere#JaneSmith\n",
            "http://somewhere#RockySmith http://xmlns.com/foaf/0.1/knows http://somewhere#SaraJones\n",
            "http://somewhere#JaneSmith http://xmlns.com/foaf/0.1/knows http://somewhere#SaraJones\n",
            "http://somewhere#SaraJones http://xmlns.com/foaf/0.1/knows http://somewhere#RockySmith\n",
            "http://somewhere#JaneSmith http://xmlns.com/foaf/0.1/knows http://somewhere#RockySmith\n"
          ]
        }
      ],
      "source": [
        "from rdflib import FOAF\n",
        "ns = Namespace(\"http://somewhere#\")\n",
        "VCARD = Namespace(\"http://www.w3.org/2001/vcard-rdf/3.0#\")\n",
        "\n",
        "#Prueba preliminar\n",
        "for s,p,o in g.triples((None, FOAF.knows, None)):\n",
        "  print(s, p, o)"
      ]
    },
    {
      "cell_type": "code",
      "execution_count": 161,
      "metadata": {
        "id": "I_CNoIKdNpbx"
      },
      "outputs": [
        {
          "name": "stdout",
          "output_type": "stream",
          "text": [
            "Sara\n",
            "Jane\n"
          ]
        }
      ],
      "source": [
        "# TO DO\n",
        "from rdflib.plugins.sparql import prepareQuery\n",
        "from rdflib import FOAF\n",
        "VCARD = Namespace(\"http://www.w3.org/2001/vcard-rdf/3.0\")\n",
        "\n",
        "query_4 = prepareQuery('''\n",
        "SELECT ?Rocky_URI  ?amigo_URI ?amigo_name\n",
        "WHERE {\n",
        "     ?Rocky_URI <http://www.w3.org/2001/vcard-rdf/3.0/Given>  ?given_name . \n",
        "     ?amigo_URI foaf:knows ?Rocky_URI .\n",
        "     ?amigo_URI <http://www.w3.org/2001/vcard-rdf/3.0/Given>  ?amigo_name . \n",
        "                                   \n",
        "\n",
        "     FILTER(?given_name = \"Rocky\")\n",
        "}\n",
        "''',\n",
        "initNs = { \"foaf\": FOAF , \"ns\" : ns, \"vcard\": VCARD}\n",
        ")\n",
        "\n",
        "# Visualize the results\n",
        "\n",
        "for r in g.query(query_4):\n",
        "     print(r.amigo_name)"
      ]
    },
    {
      "cell_type": "markdown",
      "metadata": {
        "id": "kyjGsyxDPa2C"
      },
      "source": [
        "**Task 7.5: List the entities who know at least two other entities in the graph**"
      ]
    },
    {
      "cell_type": "code",
      "execution_count": 238,
      "metadata": {
        "id": "yoVwVZUAPaLm"
      },
      "outputs": [
        {
          "name": "stdout",
          "output_type": "stream",
          "text": [
            "http://somewhere#RockySmith\n",
            "http://somewhere#SaraJones\n",
            "http://somewhere#JaneSmith\n"
          ]
        }
      ],
      "source": [
        "# TO DO\n",
        "g.add((ns.A , FOAF.knows, ns.B))\n",
        "from rdflib.plugins.sparql import prepareQuery\n",
        "from rdflib import FOAF\n",
        "VCARD = Namespace(\"http://www.w3.org/2001/vcard-rdf/3.0\")\n",
        "\n",
        "query_5 = prepareQuery('''\n",
        "SELECT ?entity ?relatedEntity\n",
        "WHERE {\n",
        "      ?entity foaf:knows ?relatedEntity .\n",
        "\n",
        "}\n",
        "GROUP BY ?entity \n",
        "HAVING (COUNT(DISTINCT ?relatedEntity) >= 2)\n",
        "    \n",
        "''',\n",
        "initNs = { \"foaf\": FOAF , \"ns\" : ns, \"vcard\": VCARD}\n",
        ")\n",
        "\n",
        "# Visualize the results\n",
        "\n",
        "for r in g.query(query_5):\n",
        "     print(r.entity)"
      ]
    }
  ],
  "metadata": {
    "colab": {
      "provenance": []
    },
    "kernelspec": {
      "display_name": "Python 3 (ipykernel)",
      "language": "python",
      "name": "python3"
    },
    "language_info": {
      "codemirror_mode": {
        "name": "ipython",
        "version": 3
      },
      "file_extension": ".py",
      "mimetype": "text/x-python",
      "name": "python",
      "nbconvert_exporter": "python",
      "pygments_lexer": "ipython3",
      "version": "3.11.5"
    }
  },
  "nbformat": 4,
  "nbformat_minor": 0
}
